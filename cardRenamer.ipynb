{
 "cells": [
  {
   "cell_type": "code",
   "execution_count": null,
   "metadata": {},
   "outputs": [],
   "source": [
    "import os\n",
    "import re\n",
    "\n",
    "# Directory containing the files\n",
    "directory = r\"C:\\Users\\Administrator\\OneDrive\\05_active_projects\\WebRoller\\GMA_Fantasy_VTT\"\n",
    "\n",
    "# New base name for the files\n",
    "new_base_name = \"GMA_Fantasy_VTT\"\n",
    "\n",
    "# Get list of files in the directory\n",
    "files = os.listdir(directory)\n",
    "\n",
    "# Sort files based on their current numbering\n",
    "files.sort(key=lambda f: int(re.search(r'\\d+', f).group()))\n",
    "\n",
    "# Rename files\n",
    "for index, filename in enumerate(files, start=1):\n",
    "    # Get the file extension\n",
    "    file_extension = os.path.splitext(filename)[1]\n",
    "    \n",
    "    # Create the new filename\n",
    "    new_filename = f\"{new_base_name}_{index:03d}{file_extension}\"\n",
    "    \n",
    "    # Full paths for old and new filenames\n",
    "    old_file = os.path.join(directory, filename)\n",
    "    new_file = os.path.join(directory, new_filename)\n",
    "    \n",
    "    # Rename the file\n",
    "    os.rename(old_file, new_file)\n",
    "    print(f\"Renamed: {filename} -> {new_filename}\")\n",
    "\n",
    "print(\"File renaming complete!\")\n"
   ]
  }
 ],
 "metadata": {
  "kernelspec": {
   "display_name": "Python 3",
   "language": "python",
   "name": "python3"
  },
  "language_info": {
   "codemirror_mode": {
    "name": "ipython",
    "version": 3
   },
   "file_extension": ".py",
   "mimetype": "text/x-python",
   "name": "python",
   "nbconvert_exporter": "python",
   "pygments_lexer": "ipython3",
   "version": "3.12.4"
  }
 },
 "nbformat": 4,
 "nbformat_minor": 2
}
